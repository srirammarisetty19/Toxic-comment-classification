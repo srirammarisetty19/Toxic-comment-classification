{
 "cells": [
  {
   "cell_type": "code",
   "execution_count": 20,
   "metadata": {
    "_uuid": "f03f935e7a4471af4c2ace9a27edbae8172aecfd"
   },
   "outputs": [],
   "source": [
    "from sklearn.feature_extraction.text import TfidfVectorizer\n",
    "import pandas as pd\n",
    "import numpy as np\n",
    "import re\n",
    "import collections\n",
    "import nltk\n",
    "import sklearn\n",
    "import re, string\n",
    "#from sets import Set\n",
    "from nltk.corpus import stopwords\n",
    "from nltk.stem.snowball import SnowballStemmer\n",
    "from collections import Counter\n",
    "from bs4 import BeautifulSoup\n",
    "from sklearn.svm import LinearSVC, SVC\n",
    "from sklearn.datasets import make_classification\n",
    "from nltk.stem.porter import PorterStemmer\n",
    "from sklearn import svm\n",
    "from sklearn import linear_model\n",
    "from sklearn import cross_validation\n",
    "from sklearn.linear_model import LogisticRegression, Ridge\n",
    "from sklearn.multiclass import OneVsRestClassifier\n",
    "from sklearn.ensemble import RandomForestClassifier\n",
    "from sklearn.metrics import accuracy_score\n",
    "import csv\n",
    "from sklearn.model_selection import cross_val_score\n",
    "from sklearn.pipeline import make_union\n",
    "from sklearn.naive_bayes import MultinomialNB\n",
    "from nltk.stem.wordnet import WordNetLemmatizer\n",
    "import pickle"
   ]
  },
  {
   "cell_type": "code",
   "execution_count": 21,
   "metadata": {
    "_uuid": "edbdafec964e720ad52b7e7e14f85886fc568c59"
   },
   "outputs": [],
   "source": [
    "def remove_big_words(words):\n",
    "    l = []\n",
    "    for word in words:\n",
    "        if len(word) <= 100:\n",
    "            l.append(word)\n",
    "    return l"
   ]
  },
  {
   "cell_type": "code",
   "execution_count": 22,
   "metadata": {
    "_uuid": "92f65cc73759e2d8bb6ca01a6471fe27bf13c226"
   },
   "outputs": [],
   "source": [
    "import nltk\n",
    "from nltk.stem import WordNetLemmatizer\n",
    "\n",
    "def clean_comment( raw_review ):\n",
    "\n",
    "    \n",
    "            review_text = BeautifulSoup(raw_review).get_text()  \n",
    "            words = review_text.lower()  \n",
    "            words=re.sub(\"\\d{1,3}\\.\\d{1,3}\\.\\d{1,3}\\.\\d{1,3}\",\"\",words) #removing user names\n",
    "            words=re.sub(\"\\[\\[.*\\]\",\"\",words)\n",
    "            words = words.split()     \n",
    "            snowball_stemmer = SnowballStemmer(\"english\")\n",
    "            meaningful_words = [snowball_stemmer.stem(word) for word in words]\n",
    "            meaningful_words = \" \".join(meaningful_words)\n",
    "            return meaningful_words\n",
    "\n"
   ]
  },
  {
   "cell_type": "code",
   "execution_count": 23,
   "metadata": {
    "_uuid": "b9814580d2b59c0d393316ad0dd8ef5096d7c9b0"
   },
   "outputs": [],
   "source": [
    "\n",
    "df = pd.read_csv('test.csv')\n"
   ]
  },
  {
   "cell_type": "code",
   "execution_count": 24,
   "metadata": {
    "_uuid": "c78b15d3a09601aa91faa9a1e135a5b5eaa8c23a"
   },
   "outputs": [
    {
     "name": "stdout",
     "output_type": "stream",
     "text": [
      "10000\n"
     ]
    }
   ],
   "source": [
    "num_reviews = df['comment_text'].size\n",
    "print(num_reviews)"
   ]
  },
  {
   "cell_type": "code",
   "execution_count": 25,
   "metadata": {
    "_uuid": "697318770e280fe9b7aa7620ad9671aea784a8d1",
    "scrolled": true
   },
   "outputs": [],
   "source": [
    "test_reviews = []\n",
    "\n",
    "for i in range(0, num_reviews):\n",
    "    test_reviews.append(clean_comment(df['comment_text'][i]))"
   ]
  },
  {
   "cell_type": "code",
   "execution_count": 26,
   "metadata": {},
   "outputs": [
    {
     "name": "stderr",
     "output_type": "stream",
     "text": [
      "/home/mohanadatta/.local/lib/python3.6/site-packages/sklearn/base.py:311: UserWarning: Trying to unpickle estimator TfidfTransformer from version 0.19.1 when using version 0.19.2. This might lead to breaking code or invalid results. Use at your own risk.\n",
      "  UserWarning)\n",
      "/home/mohanadatta/.local/lib/python3.6/site-packages/sklearn/base.py:311: UserWarning: Trying to unpickle estimator TfidfVectorizer from version 0.19.1 when using version 0.19.2. This might lead to breaking code or invalid results. Use at your own risk.\n",
      "  UserWarning)\n",
      "/home/mohanadatta/.local/lib/python3.6/site-packages/sklearn/base.py:311: UserWarning: Trying to unpickle estimator FeatureUnion from version 0.19.1 when using version 0.19.2. This might lead to breaking code or invalid results. Use at your own risk.\n",
      "  UserWarning)\n"
     ]
    }
   ],
   "source": [
    "vectorizer = pickle.load(open( \"vectorizer\" + \".pickle\", \"rb\"))"
   ]
  },
  {
   "cell_type": "code",
   "execution_count": 27,
   "metadata": {
    "_uuid": "2120428ecb7f39a6ebbd40495ce3c1129de86165"
   },
   "outputs": [],
   "source": [
    "test_vecs = vectorizer.transform(test_reviews)"
   ]
  },
  {
   "cell_type": "code",
   "execution_count": 28,
   "metadata": {
    "_uuid": "f1dd0b8c408630ff1e5e4ea7ff238c0bfd594688"
   },
   "outputs": [],
   "source": [
    "categories = ['toxic', 'severe_toxic', 'obscene', 'threat', 'insult' ,'identity_hate']"
   ]
  },
  {
   "cell_type": "code",
   "execution_count": 29,
   "metadata": {
    "_uuid": "b6f5aa7dd0bf2e711f0b8f4ef936da06660f4f93",
    "scrolled": true
   },
   "outputs": [
    {
     "name": "stderr",
     "output_type": "stream",
     "text": [
      "/home/mohanadatta/.local/lib/python3.6/site-packages/sklearn/base.py:311: UserWarning: Trying to unpickle estimator LogisticRegression from version 0.19.1 when using version 0.19.2. This might lead to breaking code or invalid results. Use at your own risk.\n",
      "  UserWarning)\n",
      "/home/mohanadatta/.local/lib/python3.6/site-packages/sklearn/base.py:311: UserWarning: Trying to unpickle estimator LabelBinarizer from version 0.19.1 when using version 0.19.2. This might lead to breaking code or invalid results. Use at your own risk.\n",
      "  UserWarning)\n",
      "/home/mohanadatta/.local/lib/python3.6/site-packages/sklearn/base.py:311: UserWarning: Trying to unpickle estimator OneVsRestClassifier from version 0.19.1 when using version 0.19.2. This might lead to breaking code or invalid results. Use at your own risk.\n",
      "  UserWarning)\n"
     ]
    },
    {
     "name": "stdout",
     "output_type": "stream",
     "text": [
      "1\n",
      "2\n",
      "3\n",
      "4\n",
      "5\n",
      "6\n"
     ]
    }
   ],
   "source": [
    "l = []\n",
    "scores = []\n",
    "for index, category in enumerate(categories):\n",
    "    model = pickle.load(open( category + \"_pickle\", \"rb\"))\n",
    "    l.append((model.predict_proba(test_vecs)[:,1]))\n",
    "    print(len(l))\n"
   ]
  },
  {
   "cell_type": "code",
   "execution_count": 31,
   "metadata": {
    "_uuid": "95aa1ad5bfc592a3c27b72d344a17be2d198e702"
   },
   "outputs": [
    {
     "name": "stdout",
     "output_type": "stream",
     "text": [
      "completed\n"
     ]
    }
   ],
   "source": [
    "    id_numbers = (df['Id'])\n",
    "    temp_2 = ['Id'] + categories\n",
    "\n",
    "    f = open('sub_file3.csv', 'w')\n",
    "    w = csv.writer(f, delimiter=',')\n",
    "    w.writerow(temp_2)\n",
    "    \n",
    "    for i in range(0, len(test_reviews)):\n",
    "        temp_l = [id_numbers[i], l[0][i], l[1][i], l[2][i], l[3][i], l[4][i], l[5][i]]\n",
    "        w.writerow(temp_l)\n",
    "\n",
    "    print(\"completed\")\n",
    "    f.close()"
   ]
  },
  {
   "cell_type": "code",
   "execution_count": 62,
   "metadata": {},
   "outputs": [
    {
     "name": "stdout",
     "output_type": "stream",
     "text": [
      "10000\n"
     ]
    }
   ],
   "source": []
  },
  {
   "cell_type": "code",
   "execution_count": null,
   "metadata": {},
   "outputs": [],
   "source": []
  }
 ],
 "metadata": {
  "kernelspec": {
   "display_name": "Python 3",
   "language": "python",
   "name": "python3"
  },
  "language_info": {
   "codemirror_mode": {
    "name": "ipython",
    "version": 3
   },
   "file_extension": ".py",
   "mimetype": "text/x-python",
   "name": "python",
   "nbconvert_exporter": "python",
   "pygments_lexer": "ipython3",
   "version": "3.6.7"
  }
 },
 "nbformat": 4,
 "nbformat_minor": 1
}
